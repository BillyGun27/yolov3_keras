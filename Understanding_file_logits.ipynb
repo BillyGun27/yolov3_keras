{
 "cells": [
  {
   "cell_type": "code",
   "execution_count": 6,
   "metadata": {},
   "outputs": [],
   "source": [
    "import h5py\n",
    "fp = h5py.File('train_fake_logits.h5','r')"
   ]
  },
  {
   "cell_type": "code",
   "execution_count": 32,
   "metadata": {},
   "outputs": [],
   "source": [
    "ch = 0\n",
    "obj = [\"aeroplane\", \"bicycle\", \"bird\", \"boat\", \"bottle\", \"bus\", \"car\", \"cat\", \"chair\", \"cow\", \"diningtable\", \"dog\", \"horse\", \"motorbike\", \"person\", \"pottedplant\", \"sheep\", \"sofa\", \"train\", \"tvmonitor\"]"
   ]
  },
  {
   "cell_type": "code",
   "execution_count": 39,
   "metadata": {},
   "outputs": [
    {
     "data": {
      "text/plain": [
       "2501"
      ]
     },
     "execution_count": 39,
     "metadata": {},
     "output_type": "execute_result"
    }
   ],
   "source": [
    "len(fp[\"img_data\"])"
   ]
  },
  {
   "cell_type": "code",
   "execution_count": 33,
   "metadata": {},
   "outputs": [
    {
     "data": {
      "text/plain": [
       "(416, 416, 3)"
      ]
     },
     "execution_count": 33,
     "metadata": {},
     "output_type": "execute_result"
    }
   ],
   "source": [
    "fp[\"img_data\"][ch].shape"
   ]
  },
  {
   "cell_type": "code",
   "execution_count": 34,
   "metadata": {},
   "outputs": [
    {
     "data": {
      "text/plain": [
       "(13, 13, 3, 25)"
      ]
     },
     "execution_count": 34,
     "metadata": {},
     "output_type": "execute_result"
    }
   ],
   "source": [
    "fp[\"big_logits\"][ch].shape"
   ]
  },
  {
   "cell_type": "code",
   "execution_count": 35,
   "metadata": {},
   "outputs": [
    {
     "data": {
      "image/png": "[encoded data removed]",
      "text/plain": [
       "<Figure size 432x288 with 1 Axes>"
      ]
     },
     "metadata": {},
     "output_type": "display_data"
    }
   ],
   "source": [
    "import matplotlib.pyplot as plt\n",
    "import matplotlib.image as mpimg\n",
    "plt.imshow(fp[\"img_data\"][ch])\n",
    "plt.show()"
   ]
  },
  {
   "cell_type": "code",
   "execution_count": 36,
   "metadata": {},
   "outputs": [],
   "source": [
    "import numpy as np\n",
    "lrg = fp[\"big_logits\"][ch]"
   ]
  },
  {
   "cell_type": "code",
   "execution_count": 37,
   "metadata": {},
   "outputs": [
    {
     "data": {
      "text/plain": [
       "(array([11]), array([8]), array([0]))"
      ]
     },
     "execution_count": 37,
     "metadata": {},
     "output_type": "execute_result"
    }
   ],
   "source": [
    "arrpl = lrg\n",
    "arrpl[:,:,:,:] #xy wh p classes/20/ (1, 13, 13, 3, 25)\n",
    "boxl = np.where(arrpl[:,:,:,4] > 0 )\n",
    "boxl"
   ]
  },
  {
   "cell_type": "code",
   "execution_count": 38,
   "metadata": {},
   "outputs": [
    {
     "name": "stdout",
     "output_type": "stream",
     "text": [
      "(11,8,0)\n",
      "[0.6610577  0.87259614 0.2451923  0.19951923 1.        ]\n",
      "[0. 0. 0. 0. 0. 0. 1. 0. 0. 0. 0. 0. 0. 0. 0. 0. 0. 0. 0. 0.]\n",
      "6 = car\n",
      "-------------------------------------------------------\n"
     ]
    }
   ],
   "source": [
    "box = boxl\n",
    "arrp= arrpl\n",
    "for i in range(len(box[0])):\n",
    "    s = np.array(box)\n",
    "    #print( i*5 )\n",
    "    stp = i\n",
    "   \n",
    "    print( \"({},{},{})\".format(s[0,stp],s[1,stp],s[2,stp]) )\n",
    "    print( arrp[s[0,stp],s[1,stp],s[2,stp],0:5] )\n",
    "    print( arrp[s[0,stp],s[1,stp],s[2,stp],5:25] )\n",
    "    obnum =  np.argmax( arrp[s[0,stp],s[1,stp],s[2,stp],5:25]) \n",
    "    print( \"{} = {}\".format(obnum, obj[ obnum ] ) )\n",
    "    print(\"-------------------------------------------------------\")"
   ]
  },
  {
   "cell_type": "code",
   "execution_count": 76,
   "metadata": {},
   "outputs": [],
   "source": [
    "import numpy as np\n",
    "import keras.backend as K\n",
    "import h5py\n",
    "from keras.layers import Input, Lambda\n",
    "from keras.models import Model\n",
    "from keras.optimizers import Adam\n",
    "from keras.callbacks import TensorBoard, ModelCheckpoint, ReduceLROnPlateau, EarlyStopping\n",
    "\n",
    "from model.core import preprocess_true_boxes, yolo_loss\n",
    "from model.mobilenet import yolo_body\n",
    "from model.yolo3 import  tiny_yolo_body\n",
    "from model.utils  import get_random_data\n",
    "\n",
    "import argparse\n",
    "\n",
    "def get_classes(classes_path):\n",
    "    '''loads the classes'''\n",
    "    with open(classes_path) as f:\n",
    "        class_names = f.readlines()\n",
    "    class_names = [c.strip() for c in class_names]\n",
    "    return class_names\n",
    "\n",
    "def get_anchors(anchors_path):\n",
    "    '''loads the anchors from a file'''\n",
    "    with open(anchors_path) as f:\n",
    "        anchors = f.readline()\n",
    "    anchors = [float(x) for x in anchors.split(',')]\n",
    "    return np.array(anchors).reshape(-1, 2)\n",
    "\n",
    "def data_generator(annotation_lines, batch_size, input_shape, anchors, num_classes):\n",
    "    '''data generator for fit_generator'''\n",
    "\n",
    "\n",
    "    n = len(annotation_lines)\n",
    "    i = 0\n",
    "    while True:\n",
    "        image_data = []\n",
    "        y_true = []\n",
    "        bbox_data = []\n",
    "        mbox_data = []\n",
    "        sbox_data = []\n",
    "        for b in range(batch_size):\n",
    "            #if i==0:\n",
    "                #np.random.shuffle(annotation_lines)\n",
    "           # print(i)\n",
    "           # print(annotation_lines[i][0].shape)\n",
    "           # print(annotation_lines[i][1].shape)\n",
    "            image, bbox , mbox ,sbox =  annotation_lines[\"img_data\"][i] , annotation_lines[\"big_logits\"][i] , annotation_lines[\"medium_logits\"][i] , annotation_lines[\"small_logits\"][i]  #get_random_data(annotation_lines[i], input_shape, random=True)\n",
    "            image_data.append(image)\n",
    "            bbox_data.append(bbox)\n",
    "            mbox_data.append(mbox)\n",
    "            sbox_data.append(sbox)\n",
    "            i = (i+1) % n\n",
    "        image_data = np.array(image_data)\n",
    "        bbox_data = np.array(bbox_data)\n",
    "        mbox_data = np.array(mbox_data)\n",
    "        sbox_data = np.array(sbox_data)\n",
    "        y_true.append(bbox_data)\n",
    "        y_true.append(mbox_data)\n",
    "        y_true.append(sbox_data)\n",
    "        #y_true = preprocess_true_boxes(box_data, input_shape, anchors, num_classes)\n",
    "        #y_true = model.predict(image_data)\n",
    "      \n",
    "        yield image_data, y_true #, np.zeros(batch_size)\n",
    "\n",
    "def data_generator_wrapper(annotation_lines, batch_size, input_shape, anchors, num_classes):\n",
    "    n = len(annotation_lines)\n",
    "    if n==0 or batch_size<=0: return None\n",
    "    return data_generator(annotation_lines, batch_size, input_shape, anchors, num_classes)\n"
   ]
  },
  {
   "cell_type": "code",
   "execution_count": 77,
   "metadata": {},
   "outputs": [],
   "source": [
    "log_dir = 'logs/000/'\n",
    "classes_path = 'class/voc_classes.txt'\n",
    "anchors_path = 'anchors/yolo_anchors.txt'\n",
    "class_names = get_classes(classes_path)\n",
    "num_classes = len(class_names)\n",
    "anchors = get_anchors(anchors_path)\n",
    "\n",
    "input_shape = (416,416) # multiple of 32, hw\n",
    "    \n",
    "train_lines =  h5py.File('train_fake_logits.h5','r') #np.load('train_logits.npy')[()]\n",
    "val_lines = h5py.File('val_fake_logits.h5','r') #np.load('val_logits.npy')[()]\n",
    "num_train = int(len(train_lines[\"img_data\"]))\n",
    "num_val = int(len(val_lines[\"img_data\"]))\n",
    "\n",
    "batch_size = 1"
   ]
  },
  {
   "cell_type": "code",
   "execution_count": 78,
   "metadata": {},
   "outputs": [
    {
     "name": "stdout",
     "output_type": "stream",
     "text": [
      "total 4 loop 5\n"
     ]
    }
   ],
   "source": [
    "train_size = 5 #len(train_lines)\n",
    "image = {}\n",
    "abox = {}\n",
    "bbox = {}\n",
    "mbox = {}\n",
    "sbox = {}\n",
    "\n",
    "print( \"total \"+ str(len(train_lines)) + \" loop \"+ str( train_size ) )\n",
    "\n",
    "i = 0 #step\n",
    "for  img, ytru in data_generator_wrapper(train_lines, batch_size, input_shape, anchors, num_classes) : \n",
    "    #x , y = dat\n",
    "    image[i] = img\n",
    "    abox[i] = ytru \n",
    "    #bbox[i] = bbbox\n",
    "    #mbox[i] = mmbox\n",
    "    #sbox[i] = ssbox\n",
    "\n",
    "    i+=1\n",
    "    if i>= train_size:#(len(train_lines)) :\n",
    "        break"
   ]
  },
  {
   "cell_type": "code",
   "execution_count": 79,
   "metadata": {},
   "outputs": [
    {
     "data": {
      "text/plain": [
       "(416, 416, 3)"
      ]
     },
     "execution_count": 79,
     "metadata": {},
     "output_type": "execute_result"
    }
   ],
   "source": [
    "image[ch][0].shape"
   ]
  },
  {
   "cell_type": "code",
   "execution_count": 80,
   "metadata": {},
   "outputs": [
    {
     "data": {
      "image/png": "[encoded data removed]",
      "text/plain": [
       "<Figure size 432x288 with 1 Axes>"
      ]
     },
     "metadata": {},
     "output_type": "display_data"
    }
   ],
   "source": [
    "plt.imshow(image[ch][0])\n",
    "plt.show()"
   ]
  },
  {
   "cell_type": "code",
   "execution_count": 86,
   "metadata": {},
   "outputs": [
    {
     "data": {
      "text/plain": [
       "(array([11]), array([8]), array([0]))"
      ]
     },
     "execution_count": 86,
     "metadata": {},
     "output_type": "execute_result"
    }
   ],
   "source": [
    "arrpc = abox[0][ch][0]\n",
    "boxc = np.where(arrpc[:,:,:,4] > 0 )\n",
    "boxc"
   ]
  },
  {
   "cell_type": "code",
   "execution_count": 87,
   "metadata": {},
   "outputs": [
    {
     "name": "stdout",
     "output_type": "stream",
     "text": [
      "(11,8,0)\n",
      "[0.6610577  0.87259614 0.2451923  0.19951923 1.        ]\n",
      "[0. 0. 0. 0. 0. 0. 1. 0. 0. 0. 0. 0. 0. 0. 0. 0. 0. 0. 0. 0.]\n",
      "6 = car\n",
      "-------------------------------------------------------\n"
     ]
    }
   ],
   "source": [
    "box = boxc\n",
    "arrp= arrpc\n",
    "for i in range(len(box[0])):\n",
    "    s = np.array(box)\n",
    "    #print( i*5 )\n",
    "    stp = i\n",
    "   \n",
    "    print( \"({},{},{})\".format(s[0,stp],s[1,stp],s[2,stp]) )\n",
    "    print( arrp[s[0,stp],s[1,stp],s[2,stp],0:5] )\n",
    "    print( arrp[s[0,stp],s[1,stp],s[2,stp],5:25] )\n",
    "    obnum =  np.argmax( arrp[s[0,stp],s[1,stp],s[2,stp],5:25]) \n",
    "    print( \"{} = {}\".format(obnum, obj[ obnum ] ) )\n",
    "    print(\"-------------------------------------------------------\")"
   ]
  },
  {
   "cell_type": "code",
   "execution_count": null,
   "metadata": {},
   "outputs": [],
   "source": []
  },
  {
   "cell_type": "code",
   "execution_count": null,
   "metadata": {},
   "outputs": [],
   "source": []
  }
 ],
 "metadata": {
  "kernelspec": {
   "display_name": "Python [default]",
   "language": "python",
   "name": "python3"
  },
  "language_info": {
   "codemirror_mode": {
    "name": "ipython",
    "version": 3
   },
   "file_extension": ".py",
   "mimetype": "text/x-python",
   "name": "python",
   "nbconvert_exporter": "python",
   "pygments_lexer": "ipython3",
   "version": "3.6.8"
  }
 },
 "nbformat": 4,
 "nbformat_minor": 2
}
